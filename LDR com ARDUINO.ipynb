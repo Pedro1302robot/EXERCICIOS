{
  "nbformat": 4,
  "nbformat_minor": 0,
  "metadata": {
    "colab": {
      "provenance": [],
      "authorship_tag": "ABX9TyPU0edG2yQaTjUv/cXja/Z6",
      "include_colab_link": true
    },
    "kernelspec": {
      "name": "python3",
      "display_name": "Python 3"
    },
    "language_info": {
      "name": "python"
    }
  },
  "cells": [
    {
      "cell_type": "markdown",
      "metadata": {
        "id": "view-in-github",
        "colab_type": "text"
      },
      "source": [
        "<a href=\"https://colab.research.google.com/github/Pedro1302robot/EXERCICIOS/blob/main/LDR%20com%20ARDUINO.ipynb\" target=\"_parent\"><img src=\"https://colab.research.google.com/assets/colab-badge.svg\" alt=\"Open In Colab\"/></a>"
      ]
    },
    {
      "cell_type": "code",
      "execution_count": null,
      "metadata": {
        "id": "2N113EyjVXDq"
      },
      "outputs": [],
      "source": [
        "LDR\n",
        "const int pinoLed = 9; //PINO DIGITAL UTILIZADO PELO LED\n",
        "const int pinoLDR = A0; //PINO ANALÓGICO UTILIZADO PELO LDR\n",
        "int valorLDR = 0;\n",
        "\n",
        "void setup(){\n",
        "  pinMode(pinoLed, OUTPUT); //DEFINE O PINO COMO SAÍDA\n",
        "  pinMode(pinoLDR, INPUT); //DEFINE O PINO COMO ENTRADA\n",
        "  Serial.begin(9600);\n",
        "}\n",
        "void loop(){\n",
        "  valorLDR = analogRead(pinoLDR);\n",
        "  Serial.println(valorLDR);\n",
        "  //O VALOR 600 PODE SER AJUSTADO\n",
        "  if(valorLDR > 600){ //SE O VALOR LIDO FOR MAIOR QUE 600, FAZ\n",
        "    digitalWrite(pinoLed, HIGH); //ACENDE O LED\n",
        "  }\n",
        "  else{ //SENÃO, FAZ\n",
        "    digitalWrite(pinoLed, LOW); //APAGA O LED\n",
        "  }\n",
        "}"
      ]
    }
  ]
}