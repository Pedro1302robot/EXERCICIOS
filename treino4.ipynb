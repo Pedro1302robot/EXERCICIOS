{
  "nbformat": 4,
  "nbformat_minor": 0,
  "metadata": {
    "colab": {
      "name": "treino4",
      "provenance": [],
      "authorship_tag": "ABX9TyNT/1cCy79/yEPZDeChcEz9",
      "include_colab_link": true
    },
    "kernelspec": {
      "name": "python3",
      "display_name": "Python 3"
    },
    "language_info": {
      "name": "python"
    }
  },
  "cells": [
    {
      "cell_type": "markdown",
      "metadata": {
        "id": "view-in-github",
        "colab_type": "text"
      },
      "source": [
        "<a href=\"https://colab.research.google.com/github/Pedro1302robot/EXERCICIOS/blob/main/treino4.ipynb\" target=\"_parent\"><img src=\"https://colab.research.google.com/assets/colab-badge.svg\" alt=\"Open In Colab\"/></a>"
      ]
    },
    {
      "cell_type": "code",
      "execution_count": null,
      "metadata": {
        "colab": {
          "base_uri": "https://localhost:8080/"
        },
        "id": "Xx5GNs050tyU",
        "outputId": "32caba07-88f0-4a2b-ae51-2b3947a4078f"
      },
      "outputs": [
        {
          "output_type": "stream",
          "name": "stdout",
          "text": [
            "4\n",
            "10\n",
            "andei de carro\n",
            "None\n"
          ]
        }
      ],
      "source": [
        "class Veiculo:\n",
        "  def andar (self): print (\"andei\")\n",
        "\n",
        "class Carro(Veiculo):\n",
        "  def __init__(self):#aspas duplas\n",
        "    self.n__rodas=4\n",
        "  def set__nrodas(self,n):\n",
        "    self.n__rodas=n\n",
        "  def andar(self):print(\"andei de carro\")\n",
        "\n",
        "gol=Carro()\n",
        "print(gol.n__rodas)\n",
        "gol.set__nrodas(10)\n",
        "print(gol.n__rodas)\n",
        "print(gol.andar())"
      ]
    }
  ]
}