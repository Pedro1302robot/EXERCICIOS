{
  "nbformat": 4,
  "nbformat_minor": 0,
  "metadata": {
    "colab": {
      "provenance": [],
      "authorship_tag": "ABX9TyMMhZ0/ghI0ILuDzGWxbk/n",
      "include_colab_link": true
    },
    "kernelspec": {
      "name": "python3",
      "display_name": "Python 3"
    },
    "language_info": {
      "name": "python"
    }
  },
  "cells": [
    {
      "cell_type": "markdown",
      "metadata": {
        "id": "view-in-github",
        "colab_type": "text"
      },
      "source": [
        "<a href=\"https://colab.research.google.com/github/Pedro1302robot/EXERCICIOS/blob/main/Sem%C3%A1faro.ipynb\" target=\"_parent\"><img src=\"https://colab.research.google.com/assets/colab-badge.svg\" alt=\"Open In Colab\"/></a>"
      ]
    },
    {
      "cell_type": "code",
      "source": [
        "PROGRAMAÇÃO SINAL:\n",
        "int vermelho = 8;\n",
        "int amarelo = 9;\n",
        "int verde = 10;\n",
        "\n",
        "void VERMELHO(){\n",
        "    digitalWrite(vermelho, HIGH);\n",
        "      digitalWrite(amarelo, LOW);\n",
        "      digitalWrite(verde, LOW);\n",
        "}\n",
        "\n",
        "void AMARELO(){\n",
        "    digitalWrite(vermelho, LOW);\n",
        "      digitalWrite(amarelo, HIGH);\n",
        "      digitalWrite(verde, LOW);\n",
        "}\n",
        "\n",
        "void VERDE(){\n",
        "    digitalWrite(vermelho, LOW);\n",
        "      digitalWrite(amarelo, LOW);\n",
        "      digitalWrite(verde, HIGH);\n",
        "}\n",
        "\n",
        "void setup(){\n",
        "    pinMode(vermelho, OUTPUT);\n",
        "      pinMode(amarelo, OUTPUT);\n",
        "      pinMode(verde, OUTPUT);\n",
        "}\n",
        "\n",
        "void loop(){\n",
        "    VERMELHO();\n",
        "      delay(5000);\n",
        "      VERDE();\n",
        "      delay(5000);\n",
        "      AMARELO();\n",
        "      delay(3000);\n",
        "}"
      ],
      "metadata": {
        "id": "0VU80cosXih6"
      },
      "execution_count": null,
      "outputs": []
    }
  ]
}
