{
  "nbformat": 4,
  "nbformat_minor": 0,
  "metadata": {
    "colab": {
      "provenance": [],
      "authorship_tag": "ABX9TyOiNVnSWxVHbyjZ3WmlmSdP",
      "include_colab_link": true
    },
    "kernelspec": {
      "name": "python3",
      "display_name": "Python 3"
    },
    "language_info": {
      "name": "python"
    }
  },
  "cells": [
    {
      "cell_type": "markdown",
      "metadata": {
        "id": "view-in-github",
        "colab_type": "text"
      },
      "source": [
        "<a href=\"https://colab.research.google.com/github/Pedro1302robot/EXERCICIOS/blob/main/Pedestre%20Sem%20Bot%C3%A3o.ipynb\" target=\"_parent\"><img src=\"https://colab.research.google.com/assets/colab-badge.svg\" alt=\"Open In Colab\"/></a>"
      ]
    },
    {
      "cell_type": "code",
      "source": [
        "PEDESTRE - SEM BOTÃO\n",
        "\n",
        "int vermelho = 8;\n",
        "int amarelo = 9;\n",
        "int verde = 10;\n",
        "int pedVerm = 11;\n",
        "int pedVerde = 12;\n",
        "\n",
        "void VERMELHO(){\n",
        "    digitalWrite(vermelho, HIGH);\n",
        "      digitalWrite(amarelo, LOW);\n",
        "      digitalWrite(verde, LOW);\n",
        "}\n",
        "\n",
        "void AMARELO(){\n",
        "    digitalWrite(vermelho, LOW);\n",
        "      digitalWrite(amarelo, HIGH);\n",
        "      digitalWrite(verde, LOW);\n",
        "}\n",
        "\n",
        "void VERDE(){\n",
        "    digitalWrite(vermelho, LOW);\n",
        "      digitalWrite(amarelo, LOW);\n",
        "      digitalWrite(verde, HIGH);\n",
        "}\n",
        "void PEDVERM(){\n",
        "    digitalWrite(pedVerm, HIGH);\n",
        "      digitalWrite(pedVerde, LOW);\n",
        "}\n",
        "\n",
        "void PEDVERDE(){\n",
        "    digitalWrite(pedVerm, LOW);\n",
        "      digitalWrite(pedVerde, HIGH);\n",
        "}\n",
        "\n",
        "void setup(){\n",
        "    pinMode(vermelho, OUTPUT);\n",
        "      pinMode(amarelo, OUTPUT);\n",
        "      pinMode(verde, OUTPUT);\n",
        "      pinMode(pedVerm, OUTPUT);\n",
        "      pinMode(pedVerde, OUTPUT);\n",
        "}\n",
        "\n",
        "void loop(){\n",
        "    VERMELHO();\n",
        "      PEDVERDE();\n",
        "      delay(5000);\n",
        "      VERDE();\n",
        "      PEDVERM();\n",
        "      delay(5000);\n",
        "      AMARELO();\n",
        "      delay(3000);\n",
        "}"
      ],
      "metadata": {
        "id": "2xCaJiIhW-aJ"
      },
      "execution_count": null,
      "outputs": []
    }
  ]
}