{
  "nbformat": 4,
  "nbformat_minor": 0,
  "metadata": {
    "colab": {
      "name": "EXERCÍCIO 4",
      "provenance": [],
      "authorship_tag": "ABX9TyPlr0UdTlD/rZSQsS3DrTdL",
      "include_colab_link": true
    },
    "kernelspec": {
      "name": "python3",
      "display_name": "Python 3"
    },
    "language_info": {
      "name": "python"
    }
  },
  "cells": [
    {
      "cell_type": "markdown",
      "metadata": {
        "id": "view-in-github",
        "colab_type": "text"
      },
      "source": [
        "<a href=\"https://colab.research.google.com/github/Pedro1302robot/EXERCICIOS/blob/main/EXERC%C3%8DCIO_4.ipynb\" target=\"_parent\"><img src=\"https://colab.research.google.com/assets/colab-badge.svg\" alt=\"Open In Colab\"/></a>"
      ]
    },
    {
      "cell_type": "code",
      "execution_count": null,
      "metadata": {
        "colab": {
          "base_uri": "https://localhost:8080/"
        },
        "id": "fVmxT6RD2gNW",
        "outputId": "7451ca49-a43e-45eb-d2fd-1dc56dfc6e5b"
      },
      "outputs": [
        {
          "output_type": "stream",
          "name": "stdout",
          "text": [
            "Capturar uma string como entrada de dados de um usuário onde conterá o seu nome, idade e profissão, todos separados por uma contra-barra.\n",
            "Armazenar esses dados e imprimir.\n",
            "pedro\n",
            "21\n",
            "médico\n",
            "{'idade': ['21'], 'nome': ['pedro'], 'profissão': ['médico']}\n"
          ]
        }
      ],
      "source": [
        "print(\"\"\"Capturar uma string como entrada de dados de um usuário onde conterá o seu nome, idade e profissão, todos separados por uma contra-barra.\n",
        "Armazenar esses dados e imprimir.\"\"\")\n",
        "nome=input().split(\"\\\\\")\n",
        "idade=input().split(\"\\\\\")\n",
        "profissão=input().split(\"\\\\\")\n",
        "dicio = {'idade':idade, 'nome':nome, 'profissão':profissão}\n",
        "print(dicio)"
      ]
    },
    {
      "cell_type": "code",
      "source": [
        "print(\"\"\"Capturar uma string como entrada de dados de um usuário onde conterá o seu nome, idade e profissão, todos separados por uma contra-barra.\n",
        "Armazenar esses dados e imprimir.\"\"\")\n",
        "\n",
        "entrada=input().split(\"\\\\\")\n",
        "print(entrada)\n",
        "\n",
        "d={\"idade\":entrada[1],\"profissão\":entrada[2],\"nome\":entrada[0]}\n",
        "print(d)\n"
      ],
      "metadata": {
        "id": "AFwRL3puD5nZ",
        "colab": {
          "base_uri": "https://localhost:8080/"
        },
        "outputId": "7faa3508-5afa-49c8-b26d-cd7c258fe7e8"
      },
      "execution_count": 10,
      "outputs": [
        {
          "output_type": "stream",
          "name": "stdout",
          "text": [
            "Capturar uma string como entrada de dados de um usuário onde conterá o seu nome, idade e profissão, todos separados por uma contra-barra.\n",
            "Armazenar esses dados e imprimir.\n",
            "pedro\\21\\engenheiro\n",
            "['pedro', '21', 'engenheiro']\n",
            "{'idade': '21', 'profissão': 'engenheiro', 'nome': 'pedro'}\n"
          ]
        }
      ]
    },
    {
      "cell_type": "code",
      "source": [
        "print(\"\"\"Capturar uma string como entrada de dados de um usuário onde conterá o seu nome, idade e profissão, todos separados por uma contra-barra.\n",
        "Armazenar esses dados e imprimir.\"\"\")\n",
        "\n",
        "a, b, c = input().split(\"\\\\\")\n",
        "dicio = {\"nome\": a, \"idade\": b, \"profissao\": c}\n",
        "a, b, c = str(a), int(b), str(c)\n",
        "print(dicio)"
      ],
      "metadata": {
        "colab": {
          "base_uri": "https://localhost:8080/"
        },
        "id": "5AvOoZ2CGjOH",
        "outputId": "813ccf98-875a-409b-f9d6-d275f070fb88"
      },
      "execution_count": 13,
      "outputs": [
        {
          "output_type": "stream",
          "name": "stdout",
          "text": [
            "Capturar uma string como entrada de dados de um usuário onde conterá o seu nome, idade e profissão, todos separados por uma contra-barra.\n",
            "Armazenar esses dados e imprimir.\n",
            "pedro\\21\\engenheiro\n",
            "{'nome': 'pedro', 'idade': '21', 'profissao': 'engenheiro'}\n"
          ]
        }
      ]
    }
  ]
}