{
  "nbformat": 4,
  "nbformat_minor": 0,
  "metadata": {
    "colab": {
      "provenance": [],
      "authorship_tag": "ABX9TyP9JLPHRXrVywD2Ye1vDHil",
      "include_colab_link": true
    },
    "kernelspec": {
      "name": "python3",
      "display_name": "Python 3"
    },
    "language_info": {
      "name": "python"
    }
  },
  "cells": [
    {
      "cell_type": "markdown",
      "metadata": {
        "id": "view-in-github",
        "colab_type": "text"
      },
      "source": [
        "<a href=\"https://colab.research.google.com/github/Pedro1302robot/EXERCICIOS/blob/main/SEM%C3%81FARO%202.ipynb\" target=\"_parent\"><img src=\"https://colab.research.google.com/assets/colab-badge.svg\" alt=\"Open In Colab\"/></a>"
      ]
    },
    {
      "cell_type": "code",
      "source": [
        "int vermelho = 8;\n",
        "int amarelo = 9;\n",
        "int verde = 10;\n",
        "int pedVerm = 11;\n",
        "int pedVerde = 12;\n",
        "int LED = 7;\n",
        "int BOTAO = 2;\n",
        "int estadoBotao = 0;\n",
        "\n",
        "void VERMELHO(){\n",
        "  digitalWrite(vermelho, HIGH);\n",
        "  digitalWrite(amarelo, LOW);\n",
        "  digitalWrite(verde, LOW);\n",
        "}\n",
        "\n",
        "void AMARELO(){\n",
        "  digitalWrite(vermelho, LOW);\n",
        "  digitalWrite(amarelo, HIGH);\n",
        "  digitalWrite(verde, LOW);\n",
        "}\n",
        "\n",
        "void VERDE(){\n",
        "  digitalWrite(vermelho, LOW);\n",
        "  digitalWrite(amarelo, LOW);\n",
        "  digitalWrite(verde, HIGH);\n",
        "}\n",
        "void PEDVERM(){\n",
        "  digitalWrite(pedVerm, HIGH);\n",
        "  digitalWrite(pedVerde, LOW);\n",
        "}\n",
        "\n",
        "void PEDVERDE(){\n",
        "  digitalWrite(pedVerm, LOW);\n",
        "  digitalWrite(pedVerde, HIGH);\n",
        "}\n",
        "\n",
        "void setup(){\n",
        "  pinMode(vermelho, OUTPUT);\n",
        "  pinMode(amarelo, OUTPUT);\n",
        "  pinMode(verde, OUTPUT);\n",
        "  pinMode(pedVerm, OUTPUT);\n",
        "  pinMode(pedVerde, OUTPUT);\n",
        "  pinMode(LED, OUTPUT);\n",
        "  pinMode(2, INPUT);\n",
        "  Serial.begin(9600);\n",
        "}\n",
        "\n",
        "void loop(){\n",
        "  VERMELHO();\n",
        "  PEDVERDE();\n",
        "  delay(5000);\n",
        "  VERDE();\n",
        "  PEDVERM();\n",
        "  delay(5000);\n",
        "  AMARELO();\n",
        "  delay(3000);\n",
        "  estadoBotao = digitalRead(2);\n",
        "  Serial.println(estadoBotao);\n",
        "  if(estadoBotao ==1){\n",
        "    digitalWrite(LED, HIGH);\n",
        "  }else{\n",
        "    digitalWrite(LED, LOW);\n",
        "  }\n",
        "}"
      ],
      "metadata": {
        "id": "LzP9vxPfYD8A"
      },
      "execution_count": null,
      "outputs": []
    }
  ]
}
