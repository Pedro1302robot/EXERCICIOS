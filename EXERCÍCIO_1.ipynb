{
  "nbformat": 4,
  "nbformat_minor": 0,
  "metadata": {
    "colab": {
      "name": "EXERCÍCIO 1",
      "provenance": [],
      "authorship_tag": "ABX9TyM36dKajlLnt6RoLmiw1290",
      "include_colab_link": true
    },
    "kernelspec": {
      "name": "python3",
      "display_name": "Python 3"
    },
    "language_info": {
      "name": "python"
    }
  },
  "cells": [
    {
      "cell_type": "markdown",
      "metadata": {
        "id": "view-in-github",
        "colab_type": "text"
      },
      "source": [
        "<a href=\"https://colab.research.google.com/github/Pedro1302robot/EXERCICIOS/blob/main/EXERC%C3%8DCIO_1.ipynb\" target=\"_parent\"><img src=\"https://colab.research.google.com/assets/colab-badge.svg\" alt=\"Open In Colab\"/></a>"
      ]
    },
    {
      "cell_type": "code",
      "execution_count": 19,
      "metadata": {
        "id": "MQETxTMHDn1j",
        "colab": {
          "base_uri": "https://localhost:8080/"
        },
        "outputId": "b89d8cee-ec49-447c-ef3b-d7dc272b5159"
      },
      "outputs": [
        {
          "output_type": "stream",
          "name": "stdout",
          "text": [
            "Escreva um programa que peça 2 números e um número real. Calcule e mostre:\n",
            "O produto do dobro do primeiro com a metade do segundo;\n",
            "A soma do triplo do primeiro com o terceiro;\n",
            "O terceiro elevado ao cubo.\n",
            "Digite o primeiro número inteiro:13\n",
            "Digite o segundo número inteiro:34\n",
            "Digite o terceiro número real:35\n",
            "O produto do dobre do primeiro com a metade do segundo 442.0\n",
            "A soma do triplo do primeiro com o terceiro 74.0\n",
            "O terceiro elevado ao cubo 42875.0\n"
          ]
        }
      ],
      "source": [
        "print(\"\"\"Escreva um programa que peça 2 números e um número real. Calcule e mostre:\n",
        "O produto do dobro do primeiro com a metade do segundo;\n",
        "A soma do triplo do primeiro com o terceiro;\n",
        "O terceiro elevado ao cubo.\"\"\")\n",
        "\n",
        "numero1inteiro = int(input(\"Digite o primeiro número inteiro:\"))\n",
        "numero2inteiro = int(input(\"Digite o segundo número inteiro:\"))\n",
        "numero3real = float(input(\"Digite o terceiro número real:\"))\n",
        "\n",
        "print(\"O produto do dobre do primeiro com a metade do segundo\",(numero1inteiro*2)*(numero2inteiro/2))\n",
        "print(\"A soma do triplo do primeiro com o terceiro\",(numero1inteiro*3)+numero3real)\n",
        "print(\"O terceiro elevado ao cubo\",numero3real**3)"
      ]
    }
  ]
}