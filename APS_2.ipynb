{
  "nbformat": 4,
  "nbformat_minor": 0,
  "metadata": {
    "colab": {
      "name": "APS 2",
      "provenance": [],
      "authorship_tag": "ABX9TyNxQ4LKNFCkOUnSkkY8NZRD",
      "include_colab_link": true
    },
    "kernelspec": {
      "name": "python3",
      "display_name": "Python 3"
    },
    "language_info": {
      "name": "python"
    }
  },
  "cells": [
    {
      "cell_type": "markdown",
      "metadata": {
        "id": "view-in-github",
        "colab_type": "text"
      },
      "source": [
        "<a href=\"https://colab.research.google.com/github/Pedro1302robot/EXERCICIOS/blob/main/APS_2.ipynb\" target=\"_parent\"><img src=\"https://colab.research.google.com/assets/colab-badge.svg\" alt=\"Open In Colab\"/></a>"
      ]
    },
    {
      "cell_type": "code",
      "execution_count": 38,
      "metadata": {
        "colab": {
          "base_uri": "https://localhost:8080/",
          "height": 132
        },
        "id": "aI0Otid5UX2l",
        "outputId": "23d6e7d3-f17b-4103-ad19-664447018b1f"
      },
      "outputs": [
        {
          "output_type": "error",
          "ename": "SyntaxError",
          "evalue": "ignored",
          "traceback": [
            "\u001b[0;36m  File \u001b[0;32m\"<ipython-input-38-01e98f1fef79>\"\u001b[0;36m, line \u001b[0;32m30\u001b[0m\n\u001b[0;31m    print(a([10:15]/[3:9]))\u001b[0m\n\u001b[0m               ^\u001b[0m\n\u001b[0;31mSyntaxError\u001b[0m\u001b[0;31m:\u001b[0m invalid syntax\n"
          ]
        }
      ],
      "source": [
        "print(\"\"\"Mostre-me as seguintes listas,derivdas de: [0,1,2,3,4,5,6,7,8,9,10,11,12,13,14,15]\n",
        "Intervalo de 1 a 9; Intervalo de 8 a 13; Números pares;\n",
        "Números ímpares; Todos os múltiplos de 2,3 e 4; Lista reversa;\n",
        "Razão entre a soma do intervalo de 10 a 15 pelo intervalo de 3 a 9 em float.\"\"\")\n",
        "a=[0,1,2,3,4,5,6,7,8,9,10,11,12,13,14,15]\n",
        "#Sequencia de 1 a 9\n",
        "print(a[1:9])\n",
        "#Sequencia de 8 a 13\n",
        "print(a[8:13])\n",
        "#Números pares e ímpares\n",
        "for num in a:\n",
        "  if num % 2 == 0:\n",
        "    print(num, end = \" \")\n",
        "for num in a:\n",
        "  if num % 2 != 0:\n",
        "    print(num, end = \" \")\n",
        "#Múltiplos de 2,3 e 4\n",
        "for num in a:\n",
        "  if num % 2 != 0:\n",
        "    print(num, end = \" \")\n",
        "for num in a:\n",
        "  if num % 3 != 0:\n",
        "    print(num, end = \" \")\n",
        "for num in a:\n",
        "  if num % 4 != 0:\n",
        "    print(num, end = \" \")\n",
        "#Lista Reversa\n",
        "print(a[::-1])\n",
        "#Razão entre a soma do intervalo de 10 a 15 pelo intervalo de 3 a 9 em float."
      ]
    }
  ]
}