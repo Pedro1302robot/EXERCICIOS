{
  "nbformat": 4,
  "nbformat_minor": 0,
  "metadata": {
    "colab": {
      "provenance": [],
      "authorship_tag": "ABX9TyMQDwSrTdL3a1up4MxKgT4s",
      "include_colab_link": true
    },
    "kernelspec": {
      "name": "python3",
      "display_name": "Python 3"
    },
    "language_info": {
      "name": "python"
    }
  },
  "cells": [
    {
      "cell_type": "markdown",
      "metadata": {
        "id": "view-in-github",
        "colab_type": "text"
      },
      "source": [
        "<a href=\"https://colab.research.google.com/github/Pedro1302robot/EXERCICIOS/blob/main/INICIO%20DO%20BANCO%20DE%20DADOS.ipynb\" target=\"_parent\"><img src=\"https://colab.research.google.com/assets/colab-badge.svg\" alt=\"Open In Colab\"/></a>"
      ]
    },
    {
      "cell_type": "code",
      "source": [
        "CREATE TABLE Sensor de corrente\n",
        "(\n",
        " float INT,\n",
        " Sensor INT PRIMARY KEY,\n",
        ");\n",
        "\n",
        "CREATE TABLE Sensor de umidade\n",
        "(\n",
        " float INT,\n",
        " Sensor INT PRIMARY KEY,\n",
        ");\n",
        "\n",
        "CREATE TABLE Sensor de presença\n",
        "(\n",
        " bool INT,\n",
        " Sensor INT PRIMARY KEY,\n",
        ");\n",
        "\n",
        "CREATE TABLE Sensor de temperatura\n",
        "(\n",
        " float INT,\n",
        " Sensor INT PRIMARY KEY,\n",
        ");\n",
        "\n",
        "CREATE TABLE Sensor de Luminosidade\n",
        "(\n",
        " bool INT,\n",
        " Sensor INT PRIMARY KEY,\n",
        ");\n",
        "\n",
        "CREATE TABLE Arduino UNO\n",
        "(\n",
        " Receptação dos dados dos sensores DATE,\n",
        " Envio dos dados processados FLOAT,\n",
        ");\n",
        "\n",
        "CREATE TABLE ESP32\n",
        "(\n",
        " Envio dos dados para o banco de dados DATE,\n",
        ");\n",
        "\n",
        "CREATE TABLE Cayenne\n",
        "(\n",
        " Criação do layout DATE,\n",
        ");\n",
        "\n",
        "CREATE TABLE Envio de dados\n",
        "(\n",
        " idArduino UNO INT PRIMARY KEY,\n",
        " Sensor INT PRIMARY KEY,\n",
        " Sensor INT PRIMARY KEY,\n",
        " Sensor INT PRIMARY KEY,\n",
        " Sensor INT PRIMARY KEY,\n",
        " Sensor INT PRIMARY KEY,\n",
        ");\n",
        "\n",
        "CREATE TABLE processamento e envio dos dados\n",
        "(\n",
        " idESP32 INT PRIMARY KEY,\n",
        " idArduino UNO INT PRIMARY KEY,\n",
        ");\n",
        "\n",
        "CREATE TABLE Envio de dados para internet\n",
        "(\n",
        " idESP32 INT PRIMARY KEY,\n",
        " idEntity INT PRIMARY KEY,\n",
        ");\n",
        "\n",
        "ALTER TABLE Envio de dados ADD FOREIGN KEY(idArduino UNO) REFERENCES Arduino UNO (idArduino UNO)\n",
        "ALTER TABLE Envio de dados ADD FOREIGN KEY(Sensor) REFERENCES Sensor de corrente (Sensor)\n",
        "ALTER TABLE Envio de dados ADD FOREIGN KEY(Sensor) REFERENCES Sensor de umidade (Sensor)\n",
        "ALTER TABLE Envio de dados ADD FOREIGN KEY(Sensor) REFERENCES Sensor de presença (Sensor)\n",
        "ALTER TABLE Envio de dados ADD FOREIGN KEY(Sensor) REFERENCES Sensor de temperatura (Sensor)\n",
        "ALTER TABLE Envio de dados ADD FOREIGN KEY(Sensor) REFERENCES Sensor de Luminosidade (Sensor)\n",
        "ALTER TABLE processamento e envio dos dados ADD FOREIGN KEY(idESP32) REFERENCES ESP32 (idESP32)\n",
        "ALTER TABLE processamento e envio dos dados ADD FOREIGN KEY(idArduino UNO) REFERENCES Arduino UNO (idArduino UNO)\n",
        "ALTER TABLE Envio de dados para internet ADD FOREIGN KEY(idESP32) REFERENCES ESP32 (idESP32)\n",
        "ALTER TABLE Envio de dados para internet ADD FOREIGN KEY(idEntity) REFERENCES Cayenne (idEntity)"
      ],
      "metadata": {
        "id": "UOYIf_dzZeFM"
      },
      "execution_count": null,
      "outputs": []
    }
  ]
}