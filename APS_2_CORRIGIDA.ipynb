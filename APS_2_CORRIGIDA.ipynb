{
  "nbformat": 4,
  "nbformat_minor": 0,
  "metadata": {
    "colab": {
      "name": "APS 2 CORRIGIDA",
      "provenance": [],
      "authorship_tag": "ABX9TyM+UoHSp6/0jcZIJtV3GEgi",
      "include_colab_link": true
    },
    "kernelspec": {
      "name": "python3",
      "display_name": "Python 3"
    },
    "language_info": {
      "name": "python"
    }
  },
  "cells": [
    {
      "cell_type": "markdown",
      "metadata": {
        "id": "view-in-github",
        "colab_type": "text"
      },
      "source": [
        "<a href=\"https://colab.research.google.com/github/Pedro1302robot/EXERCICIOS/blob/main/APS_2_CORRIGIDA.ipynb\" target=\"_parent\"><img src=\"https://colab.research.google.com/assets/colab-badge.svg\" alt=\"Open In Colab\"/></a>"
      ]
    },
    {
      "cell_type": "code",
      "execution_count": 7,
      "metadata": {
        "colab": {
          "base_uri": "https://localhost:8080/"
        },
        "id": "aI0Otid5UX2l",
        "outputId": "c446a5cb-9a25-4031-c807-230899402e75"
      },
      "outputs": [
        {
          "output_type": "stream",
          "name": "stdout",
          "text": [
            "Mostre-me as seguintes listas,derivdas de: [0,1,2,3,4,5,6,7,8,9,10,11,12,13,14,15]\n",
            "Intervalo de 1 a 9; Intervalo de 8 a 13; Números pares;\n",
            "Números ímpares; Todos os múltiplos de 2,3 e 4; Lista reversa;\n",
            "Razão entre a soma do intervalo de 10 a 15 pelo intervalo de 3 a 9 em float.\n",
            "[1, 2, 3, 4, 5, 6, 7, 8]\n",
            "[8, 9, 10, 11, 12]\n",
            "0 2 4 6 8 10 12 14 1 3 5 7 9 11 13 15 [0, 2, 3, 4, 6, 8, 9, 10, 12, 14, 15, 0, 2, 3, 4, 6, 8, 9, 10, 12, 14, 15, 0, 2, 3, 4, 6, 8, 9, 10, 12, 14, 15]\n",
            "[15, 14, 13, 12, 11, 10, 9, 8, 7, 6, 5, 4, 3, 2, 1, 0]\n",
            "[10, 11, 12, 13, 14, 15]\n",
            "[3, 4, 5, 6, 7, 8, 9]\n",
            "1.7857142857142858\n"
          ]
        }
      ],
      "source": [
        "print(\"\"\"Mostre-me as seguintes listas,derivdas de: [0,1,2,3,4,5,6,7,8,9,10,11,12,13,14,15]\n",
        "Intervalo de 1 a 9; Intervalo de 8 a 13; Números pares;\n",
        "Números ímpares; Todos os múltiplos de 2,3 e 4; Lista reversa;\n",
        "Razão entre a soma do intervalo de 10 a 15 pelo intervalo de 3 a 9 em float.\"\"\")\n",
        "a=[0,1,2,3,4,5,6,7,8,9,10,11,12,13,14,15]\n",
        "#Sequencia de 1 a 9\n",
        "print(a[1:9])\n",
        "#Sequencia de 8 a 13\n",
        "print(a[8:13])\n",
        "#Números pares e ímpares\n",
        "for num in a:\n",
        "  if num % 2 == 0:\n",
        "    print(num, end = \" \")\n",
        "for num in a:\n",
        "  if num % 2 != 0:\n",
        "    print(num, end = \" \")\n",
        "#Múltiplos de 2,3 e 4:\n",
        "\n",
        "for number in n:\n",
        "    if (number % 2 == 0 or number % 3 == 0 or number % 4 == 0):\n",
        "        n_mult.append(number)\n",
        "print(n_mult)\n",
        "\n",
        "#Lista Reversa\n",
        "print(a[::-1])\n",
        "#Razão entre a soma do intervalo de 10 a 15 pelo intervalo de 3 a 9 em float.\n",
        "part1 = a[10:16]\n",
        "print (part1)\n",
        "part2 = a[3:10]\n",
        "print (part2)\n",
        " \n",
        "part1_sum = sum(part1)\n",
        "part2_sum = sum(part2)\n",
        "resultado_div = part1_sum / part2_sum\n",
        "print (float(resultado_div))"
      ]
    },
    {
      "cell_type": "code",
      "source": [
        "#código para a pratica 2\n",
        "\n",
        "#from msilib.schema import _Validation_records\n",
        " \n",
        "n = [0,1,2,3,4,5,6,7,8,9,10,11,12,13,14,15]\n",
        "n_pares = []\n",
        "n_impares = []\n",
        "n_mult = []\n",
        "  \n",
        "print (n[1:10])\n",
        " \n",
        "print(n[8:14])\n",
        "#logca para numeros impares da lista\n",
        "for number in n:\n",
        "    if number % 2 == 0:\n",
        "        n_pares.append(number)\n",
        " \n",
        "print(n_pares)\n",
        "#logica para numeros impares da lista\n",
        "for number in n:\n",
        "    if number % 2 != 0:\n",
        "        n_impares.append(number)\n",
        " \n",
        "print(n_impares)\n",
        " \n",
        " # logica para multiplos de 2,3 e 4\n",
        "for number in n:\n",
        "    if (number % 2 == 0 or number % 3 == 0 or number % 4 == 0):\n",
        "        n_mult.append(number)\n",
        "print(n_mult)        \n",
        "        \n",
        "#logica da lista reversa\n",
        "n_reversed = n.copy()\n",
        "n_reversed.reverse()\n",
        "print(n_reversed)\n",
        " \n",
        " \n",
        "# logica da soma de intervalos\n",
        "part1 = n[10:16]\n",
        "print (part1)\n",
        "part2 = n[3:10]\n",
        "print (part2)\n",
        " \n",
        "part1_sum = sum(part1)\n",
        "part2_sum = sum(part2)\n",
        "resultado_div = part1_sum / part2_sum\n",
        "print (float(resultado_div))"
      ],
      "metadata": {
        "colab": {
          "base_uri": "https://localhost:8080/"
        },
        "id": "tkzxiCCqCn1k",
        "outputId": "2d70d19a-1f32-49aa-a6c0-d8d24b3d4075"
      },
      "execution_count": 5,
      "outputs": [
        {
          "output_type": "stream",
          "name": "stdout",
          "text": [
            "[1, 2, 3, 4, 5, 6, 7, 8, 9]\n",
            "[8, 9, 10, 11, 12, 13]\n",
            "[0, 2, 4, 6, 8, 10, 12, 14]\n",
            "[1, 3, 5, 7, 9, 11, 13, 15]\n",
            "[0, 2, 3, 4, 6, 8, 9, 10, 12, 14, 15]\n",
            "[15, 14, 13, 12, 11, 10, 9, 8, 7, 6, 5, 4, 3, 2, 1, 0]\n",
            "[10, 11, 12, 13, 14, 15]\n",
            "[3, 4, 5, 6, 7, 8, 9]\n",
            "1.7857142857142858\n"
          ]
        }
      ]
    }
  ]
}