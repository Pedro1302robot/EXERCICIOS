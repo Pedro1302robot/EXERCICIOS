{
  "nbformat": 4,
  "nbformat_minor": 0,
  "metadata": {
    "colab": {
      "provenance": [],
      "authorship_tag": "ABX9TyNyF3oUPF4ldkLdIgJfRArY",
      "include_colab_link": true
    },
    "kernelspec": {
      "name": "python3",
      "display_name": "Python 3"
    },
    "language_info": {
      "name": "python"
    }
  },
  "cells": [
    {
      "cell_type": "markdown",
      "metadata": {
        "id": "view-in-github",
        "colab_type": "text"
      },
      "source": [
        "<a href=\"https://colab.research.google.com/github/Pedro1302robot/EXERCICIOS/blob/main/REGISTRO_ACAD%C3%8AMICO.ipynb\" target=\"_parent\"><img src=\"https://colab.research.google.com/assets/colab-badge.svg\" alt=\"Open In Colab\"/></a>"
      ]
    },
    {
      "cell_type": "code",
      "execution_count": 1,
      "metadata": {
        "colab": {
          "base_uri": "https://localhost:8080/"
        },
        "id": "tLOVV3l8svkq",
        "outputId": "7131e6bd-9ad8-470d-e19d-a9261639ffb8"
      },
      "outputs": [
        {
          "output_type": "stream",
          "name": "stdout",
          "text": [
            "Requirement already satisfied: pandas in /usr/local/lib/python3.10/dist-packages (1.5.3)\n",
            "Requirement already satisfied: python-dateutil>=2.8.1 in /usr/local/lib/python3.10/dist-packages (from pandas) (2.8.2)\n",
            "Requirement already satisfied: pytz>=2020.1 in /usr/local/lib/python3.10/dist-packages (from pandas) (2023.3.post1)\n",
            "Requirement already satisfied: numpy>=1.21.0 in /usr/local/lib/python3.10/dist-packages (from pandas) (1.23.5)\n",
            "Requirement already satisfied: six>=1.5 in /usr/local/lib/python3.10/dist-packages (from python-dateutil>=2.8.1->pandas) (1.16.0)\n"
          ]
        }
      ],
      "source": [
        "pip install pandas"
      ]
    },
    {
      "cell_type": "code",
      "source": [
        "import pandas as pd\n",
        "\n",
        "def registrar_aluno():\n",
        "    nome = input(\"Digite o nome do aluno: \")\n",
        "    ra = input(\"Digite o RA (Registro Acadêmico) do aluno: \")\n",
        "    data_nascimento = input(\"Digite a data de nascimento do aluno (DD/MM/AAAA): \")\n",
        "\n",
        "    # Cria um dicionário com as informações do aluno\n",
        "    aluno = {\n",
        "        'Nome': nome,\n",
        "        'RA': ra,\n",
        "        'Data de Nascimento': data_nascimento\n",
        "    }\n",
        "\n",
        "    # Abre o arquivo CSV (ou cria um novo se não existir)\n",
        "    try:\n",
        "        df = pd.read_csv('alunos.csv')\n",
        "    except FileNotFoundError:\n",
        "        df = pd.DataFrame(columns=['Nome', 'RA', 'Data de Nascimento'])\n",
        "\n",
        "    # Adiciona as informações do aluno ao DataFrame\n",
        "    df = df.append(aluno, ignore_index=True)\n",
        "\n",
        "    # Salva as informações no arquivo CSV\n",
        "    df.to_csv('alunos.csv', index=False)\n",
        "\n",
        "    print(f'Aluno registrado com sucesso:\\nNome: {nome}\\nRA: {ra}\\nData de Nascimento: {data_nascimento}')\n",
        "\n",
        "def main():\n",
        "    while True:\n",
        "        print(\"Registro de Alunos\")\n",
        "        opcao = input(\"1. Registrar Aluno\\n2. Sair\\nEscolha uma opção: \")\n",
        "\n",
        "        if opcao == '1':\n",
        "            registrar_aluno()\n",
        "        elif opcao == '2':\n",
        "            break\n",
        "        else:\n",
        "            print(\"Opção inválida. Tente novamente.\")\n",
        "\n",
        "if __name__ == \"__main__\":\n",
        "    main()"
      ],
      "metadata": {
        "colab": {
          "base_uri": "https://localhost:8080/"
        },
        "id": "rJAmEIn2s1Xq",
        "outputId": "489cc497-db46-4892-ed6e-3e486890144a"
      },
      "execution_count": 2,
      "outputs": [
        {
          "name": "stdout",
          "output_type": "stream",
          "text": [
            "Registro de Alunos\n",
            "1. Registrar Aluno\n",
            "2. Sair\n",
            "Escolha uma opção: 1\n",
            "Digite o nome do aluno: Pedro Ivo\n",
            "Digite o RA (Registro Acadêmico) do aluno: 1201501820\n",
            "Digite a data de nascimento do aluno (DD/MM/AAAA): 13/02/2002\n"
          ]
        },
        {
          "output_type": "stream",
          "name": "stderr",
          "text": [
            "<ipython-input-2-b0e128562b87>:22: FutureWarning: The frame.append method is deprecated and will be removed from pandas in a future version. Use pandas.concat instead.\n",
            "  df = df.append(aluno, ignore_index=True)\n"
          ]
        },
        {
          "name": "stdout",
          "output_type": "stream",
          "text": [
            "Aluno registrado com sucesso:\n",
            "Nome: Pedro Ivo\n",
            "RA: 1201501820\n",
            "Data de Nascimento: 13/02/2002\n",
            "Registro de Alunos\n",
            "1. Registrar Aluno\n",
            "2. Sair\n",
            "Escolha uma opção: 1\n",
            "Digite o nome do aluno: Maria Alice Borba Batinga\n",
            "Digite o RA (Registro Acadêmico) do aluno: 1201501220\n",
            "Digite a data de nascimento do aluno (DD/MM/AAAA): 20/08/2002\n"
          ]
        },
        {
          "output_type": "stream",
          "name": "stderr",
          "text": [
            "<ipython-input-2-b0e128562b87>:22: FutureWarning: The frame.append method is deprecated and will be removed from pandas in a future version. Use pandas.concat instead.\n",
            "  df = df.append(aluno, ignore_index=True)\n"
          ]
        },
        {
          "name": "stdout",
          "output_type": "stream",
          "text": [
            "Aluno registrado com sucesso:\n",
            "Nome: Maria Alice Borba Batinga\n",
            "RA: 1201501220\n",
            "Data de Nascimento: 20/08/2002\n",
            "Registro de Alunos\n",
            "1. Registrar Aluno\n",
            "2. Sair\n",
            "Escolha uma opção: 2\n"
          ]
        }
      ]
    }
  ]
}