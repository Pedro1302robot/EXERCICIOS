{
  "nbformat": 4,
  "nbformat_minor": 0,
  "metadata": {
    "colab": {
      "provenance": [],
      "authorship_tag": "ABX9TyNU9dKVRPKfbm8liMNrSG2a",
      "include_colab_link": true
    },
    "kernelspec": {
      "name": "python3",
      "display_name": "Python 3"
    },
    "language_info": {
      "name": "python"
    }
  },
  "cells": [
    {
      "cell_type": "markdown",
      "metadata": {
        "id": "view-in-github",
        "colab_type": "text"
      },
      "source": [
        "<a href=\"https://colab.research.google.com/github/Pedro1302robot/EXERCICIOS/blob/main/Sinal%20com%20reten%C3%A7%C3%A3o.ipynb\" target=\"_parent\"><img src=\"https://colab.research.google.com/assets/colab-badge.svg\" alt=\"Open In Colab\"/></a>"
      ]
    },
    {
      "cell_type": "code",
      "source": [
        "Código - sinal com retenção\n",
        "\n",
        "int vermelho = 8;\n",
        "int amarelo = 9;\n",
        "int verde = 10;\n",
        "int pedVerde = 12;\n",
        "int pedVermelho = 11;\n",
        "int Botao = 2;\n",
        "int estadoBotao = 0;\n",
        "int flag = 0;\n",
        "\n",
        "void setup(){\n",
        "    pinMode(vermelho, OUTPUT);\n",
        "      pinMode(amarelo, OUTPUT);\n",
        "    pinMode(verde, OUTPUT);\n",
        "      pinMode(pedVermelho, OUTPUT);\n",
        "      pinMode(pedVerde, OUTPUT);\n",
        "      pinMode(Botao,INPUT);\n",
        "      Serial.begin(9600);\n",
        "}\n",
        "\n",
        "\n",
        "void loop(){\n",
        "    estadoBotao = digitalRead(Botao);\n",
        "      Serial.println(estadoBotao);\n",
        "    if(estadoBotao == 1){\n",
        "        digitalWrite(amarelo, HIGH);\n",
        "          digitalWrite(verde, LOW);\n",
        "          digitalWrite(pedVermelho, HIGH);\n",
        "          digitalWrite(pedVerde, LOW);\n",
        "          delay(3000);\n",
        "          digitalWrite(amarelo, LOW);\n",
        "          digitalWrite(vermelho, HIGH);\n",
        "        digitalWrite(pedVermelho, LOW);\n",
        "          digitalWrite(pedVerde, HIGH);\n",
        "          delay(20000);\n",
        "          flag = 1;\n",
        "    }else{\n",
        "      if(flag == 1){\n",
        "              digitalWrite(vermelho, LOW);\n",
        "              digitalWrite(verde, HIGH);\n",
        "              digitalWrite(pedVermelho, HIGH);\n",
        "              digitalWrite(pedVerde, LOW);\n",
        "            delay(20000);\n",
        "            flag = 0;\n",
        "      }else{\n",
        "              digitalWrite(vermelho, LOW);\n",
        "              digitalWrite(verde, HIGH);\n",
        "              digitalWrite(pedVermelho, HIGH);\n",
        "              digitalWrite(pedVerde, LOW);\n",
        "      }\n",
        "\n",
        "    }\n",
        "  }"
      ],
      "metadata": {
        "id": "THvQovHNWYgc"
      },
      "execution_count": null,
      "outputs": []
    }
  ]
}